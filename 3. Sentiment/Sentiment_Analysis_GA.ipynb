{
 "cells": [
  {
   "cell_type": "markdown",
   "id": "9b327084-2d8f-416e-8f95-aed39c6b2168",
   "metadata": {},
   "source": [
    "# Introduction to Sentiment Analysis for Cryptocurrency News with FinBERT\n",
    "\n",
    "In this Jupyter notebook, titled `ToReproduceSentiment.ipynb`, we embark on the journey of retraining the FinBERT model, a specialized transformer model for financial sentiment analysis, using the `CryptoLin_IE_v2.csv` dataset. The objective is to apply the retrained model for sentiment analysis on a dataset of cryptocurrency-related news articles. This process aims to enrich the dataset with sentiment scores, categorizing each news piece into positive, negative, or neutral sentiment. The enriched dataset, named `GA_data_wsentiment.csv`, will serve as an invaluable asset for deeper insights into the cryptocurrency market's reaction to news events.\n",
    "\n",
    "## Objective\n",
    "\n",
    "The primary goal is to leverage the FinBERT model, fine-tune it with cryptocurrency-specific news sentiment, and apply it to a pre-filtered dataset (`GA_data_wrelevance.csv`) of cryptocurrency news. This retraining and application process ensures that the sentiment analysis is attuned to the nuances of cryptocurrency discourse, thereby providing a more accurate and relevant assessment of news sentiment.\n",
    "\n",
    "## Methodology\n",
    "\n",
    "The approach encompasses several critical steps:\n",
    "\n",
    "1. **Data Preparation and Cleaning**: Utilize the `CryptoLin_IE_v2.csv` dataset for training, which involves pre-processing steps such as text cleaning, stopwords removal, and lemmatization to prepare the data for the model.\n",
    "\n",
    "2. **Model Retraining**: Fine-tune the FinBERT model with the prepared dataset to adapt its capabilities to the cryptocurrency news domain. This step involves setting up a training pipeline, defining metrics for evaluation, and executing the training process.\n",
    "\n",
    "3. **Sentiment Analysis Deployment**: Apply the retrained model to the `GA_data_wrelevance.csv` dataset to perform sentiment analysis. Each news article is scored and classified into one of three sentiment categories: positive, negative, or neutral.\n",
    "\n",
    "4. **Dataset Enrichment**: Append the sentiment scores and classifications to the dataset, resulting in `GA_data_wsentiment.csv`. This enriched dataset includes additional columns for sentiment probabilities and the final sentiment class for each news article.\n",
    "\n",
    "5. **Output Generation**: The final dataset with appended sentiment analysis results is saved and ready for subsequent analysis phases, aiming to uncover insights into how news sentiment influences cryptocurrency markets.\n",
    "\n",
    "## Usage\n",
    "\n",
    "This notebook is a critical component of a larger analytical framework aimed at understanding the impact of news sentiment on the cryptocurrency market. By integrating sentiment analysis, stakeholders can gain nuanced insights into market sentiment, aiding in decision-making processes and market analysis.\n",
    "\n",
    "## Requirements\n",
    "\n",
    "- Python 3.x\n",
    "- Pandas for data manipulation\n",
    "- NumPy for numerical operations\n",
    "- Transformers and PyTorch for model retraining and sentiment analysis\n",
    "- NLTK for natural language processing tasks\n",
    "- Scikit-learn for additional machine learning utilities\n",
    "\n",
    "## Conclusion\n",
    "\n",
    "The sentiment analysis performed in this notebook enhances our understanding of the cryptocurrency market's reaction to news events. By retraining the FinBERT model on cryptocurrency-specific news and deploying it on a relevant news dataset, we have created a valuable resource (`GA_data_wsentiment.csv`) for analyzing the market sentiment and its potential impacts on cryptocurrency prices and trends.\n"
   ]
  },
  {
   "cell_type": "code",
   "execution_count": 2,
   "id": "4c951112",
   "metadata": {
    "tags": []
   },
   "outputs": [
    {
     "name": "stderr",
     "output_type": "stream",
     "text": [
      "[nltk_data] Downloading package stopwords to\n",
      "[nltk_data]     /Users/arturoolivera/nltk_data...\n",
      "[nltk_data]   Package stopwords is already up-to-date!\n",
      "[nltk_data] Downloading package punkt to\n",
      "[nltk_data]     /Users/arturoolivera/nltk_data...\n",
      "[nltk_data]   Package punkt is already up-to-date!\n",
      "[nltk_data] Downloading package wordnet to\n",
      "[nltk_data]     /Users/arturoolivera/nltk_data...\n",
      "[nltk_data]   Package wordnet is already up-to-date!\n"
     ]
    },
    {
     "data": {
      "text/plain": [
       "True"
      ]
     },
     "execution_count": 2,
     "metadata": {},
     "output_type": "execute_result"
    }
   ],
   "source": [
    "## Imports\n",
    "\n",
    "import warnings\n",
    "import pandas as pd\n",
    "from sklearn.metrics import accuracy_score, recall_score, precision_score, f1_score\n",
    "import torch\n",
    "from sklearn.model_selection import train_test_split\n",
    "from transformers import BertTokenizer, BertForSequenceClassification\n",
    "from transformers import EarlyStoppingCallback\n",
    "import numpy as np\n",
    "import nltk\n",
    "from nltk.stem import WordNetLemmatizer\n",
    "from nltk.tokenize import word_tokenize\n",
    "import string\n",
    "from nltk.corpus import stopwords\n",
    "from transformers import Trainer, TrainingArguments, AutoModelForSequenceClassification, AutoTokenizer, DataCollatorWithPadding\n",
    "import re\n",
    "from sklearn.base import BaseEstimator, TransformerMixin\n",
    "from sklearn.pipeline import Pipeline\n",
    "from math import exp\n",
    "\n",
    "warnings.filterwarnings('ignore')\n",
    "nltk.download('stopwords')\n",
    "nltk.download('punkt')\n",
    "nltk.download('wordnet')"
   ]
  },
  {
   "cell_type": "markdown",
   "id": "97fdfc34-e45c-4efe-af40-0717ed1c5331",
   "metadata": {},
   "source": [
    "Functions"
   ]
  },
  {
   "cell_type": "code",
   "execution_count": 3,
   "id": "e293bf89-63c8-4e48-9f3b-029654771ba6",
   "metadata": {
    "tags": []
   },
   "outputs": [],
   "source": [
    "def apply_finbert(x):\n",
    "    device = torch.device('mps')  # Define the MPS device.\n",
    "    model.to(device)  # Move your model to MPS.\n",
    "    \n",
    "    # Ensure the input is also moved to the MPS device.\n",
    "    inputs = tokenizer([x], padding=True, truncation=True, return_tensors='pt').to(device)\n",
    "    \n",
    "    # Execute model prediction.\n",
    "    outputs = model(**inputs)\n",
    "    \n",
    "    # Apply softmax and move the outputs back to CPU for further processing if necessary.\n",
    "    predictions = torch.nn.functional.softmax(outputs.logits, dim=1).cpu() \n",
    "    \n",
    "    return predictions[:, 0].tolist()[0], predictions[:, 1].tolist()[0], predictions[:, 2].tolist()[0]\n",
    "\n",
    "def calculate_result(df):\n",
    "    largo = df.shape[0]\n",
    "    result = []\n",
    "    for i in range(0,largo):\n",
    "        if df.iloc[i]['Positive']>0.5:\n",
    "            result.append(1)\n",
    "        elif df.iloc[i]['Negative']>0.5:\n",
    "            result.append(-1)\n",
    "        elif df.iloc[i]['Neutral']>0.5:\n",
    "            result.append(0)\n",
    "        elif df.iloc[i]['Neutral']>df.iloc[i]['Positive'] and df.iloc[i]['Neutral']>df.iloc[i]['Negative']:\n",
    "            result.append(0)\n",
    "        elif df.iloc[i]['Positive']>df.iloc[i]['Neutral'] and df.iloc[i]['Positive']>df.iloc[i]['Negative']:\n",
    "            result.append(1)\n",
    "        else:\n",
    "            result.append(-1)\n",
    "\n",
    "    df['result']=result\n",
    "    return df\n",
    "\n",
    "# Create torch dataset\n",
    "class Dataset(torch.utils.data.Dataset):\n",
    "    def __init__(self, encodings, labels=None):\n",
    "        self.encodings = encodings\n",
    "        self.labels = labels\n",
    "\n",
    "    def __getitem__(self, idx):\n",
    "        item = {key: torch.tensor(val[idx]) for key, val in self.encodings.items()}\n",
    "        if self.labels:\n",
    "            item[\"labels\"] = torch.tensor(self.labels[idx])\n",
    "        return item\n",
    "\n",
    "    def __len__(self):\n",
    "        return len(self.encodings[\"input_ids\"])\n",
    "\n",
    "# Define Trainer parameters\n",
    "def compute_metrics(p):\n",
    "    pred, labels = p\n",
    "    pred = np.argmax(pred, axis=1)\n",
    "\n",
    "    accuracy = accuracy_score(y_true=labels, y_pred=pred)\n",
    "    #recall = recall_score(y_true=labels, y_pred=pred,'weighted')\n",
    "    #precision = precision_score(y_true=labels, y_pred=pred)\n",
    "    #f1 = f1_score(y_true=labels, y_pred=pred)\n",
    "    \n",
    "    return {\"accuracy\": accuracy}#, \"precision\": precision, \"recall\": recall, \"f1\": f1}\n",
    "\n",
    "#Function to apply for each word the proper lemmatization.\n",
    "def lemmetize_titles(words):\n",
    "    a = []\n",
    "    tokens = word_tokenize(words)\n",
    "    for token in tokens:\n",
    "        lemmetized_word = lemmatizer.lemmatize(token)\n",
    "        a.append(lemmetized_word)\n",
    "    lemmatized_title = ' '.join(a)\n",
    "    return lemmatized_title"
   ]
  },
  {
   "cell_type": "code",
   "execution_count": 4,
   "id": "4da20bbd-9a96-4d06-9faf-f84f793e1a3f",
   "metadata": {
    "tags": []
   },
   "outputs": [],
   "source": [
    "# Custom transformer for text cleaning\n",
    "class TextCleaner(BaseEstimator, TransformerMixin):\n",
    "    def __init__(self):\n",
    "        pass\n",
    "\n",
    "    def fit(self, X, y=None):\n",
    "        return self\n",
    "\n",
    "    def transform(self, X, y=None):\n",
    "        cleaned_data = X.astype(str).map(lambda x: x.lower())\n",
    "        cleaned_data = cleaned_data.map(lambda x: re.sub('[^A-Za-z0-9]+', ' ', x))\n",
    "        return cleaned_data\n",
    "\n",
    "# Custom transformer for stop words removal\n",
    "class StopWordsRemover(BaseEstimator, TransformerMixin):\n",
    "    def __init__(self):\n",
    "        self.stop_words = set(stopwords.words('english'))\n",
    "\n",
    "    def fit(self, X, y=None):\n",
    "        return self\n",
    "\n",
    "    def transform(self, X, y=None):\n",
    "        removed_stop_words = X.apply(lambda x: ' '.join([word for word in x.split() if word not in self.stop_words]))\n",
    "        return removed_stop_words\n",
    "\n",
    "# Custom transformer for lemmatization\n",
    "class Lemmatizer(BaseEstimator, TransformerMixin):\n",
    "    def __init__(self):\n",
    "        self.lemmatizer = WordNetLemmatizer()\n",
    "\n",
    "    def fit(self, X, y=None):\n",
    "        return self\n",
    "\n",
    "    def transform(self, X, y=None):\n",
    "        lemmatized_data = X.apply(lambda x: ' '.join([self.lemmatizer.lemmatize(word) for word in word_tokenize(x)]))\n",
    "        return lemmatized_data"
   ]
  },
  {
   "cell_type": "markdown",
   "id": "10390b43",
   "metadata": {},
   "source": [
    "### Importing the data of CryptoLin for finBERT model Training "
   ]
  },
  {
   "cell_type": "code",
   "execution_count": 5,
   "id": "5cd81d11",
   "metadata": {
    "tags": []
   },
   "outputs": [],
   "source": [
    "df = pd.read_csv(\"CryptoLin_IE_v2.txt\")"
   ]
  },
  {
   "cell_type": "code",
   "execution_count": 6,
   "id": "9db3a36d",
   "metadata": {
    "tags": []
   },
   "outputs": [],
   "source": [
    "#We ae going to use the reduce manual_labeled df for training our finBERT model:\n",
    "input_df = df[['date','news','final_manual_labelling','text_span']]"
   ]
  },
  {
   "cell_type": "code",
   "execution_count": 7,
   "id": "9dd64018-e509-4751-9236-714704a67473",
   "metadata": {
    "tags": []
   },
   "outputs": [
    {
     "data": {
      "text/html": [
       "<div>\n",
       "<style scoped>\n",
       "    .dataframe tbody tr th:only-of-type {\n",
       "        vertical-align: middle;\n",
       "    }\n",
       "\n",
       "    .dataframe tbody tr th {\n",
       "        vertical-align: top;\n",
       "    }\n",
       "\n",
       "    .dataframe thead th {\n",
       "        text-align: right;\n",
       "    }\n",
       "</style>\n",
       "<table border=\"1\" class=\"dataframe\">\n",
       "  <thead>\n",
       "    <tr style=\"text-align: right;\">\n",
       "      <th></th>\n",
       "      <th>date</th>\n",
       "      <th>news</th>\n",
       "      <th>final_manual_labelling</th>\n",
       "      <th>text_span</th>\n",
       "    </tr>\n",
       "  </thead>\n",
       "  <tbody>\n",
       "    <tr>\n",
       "      <th>0</th>\n",
       "      <td>2022-01-25</td>\n",
       "      <td>Ripple announces stock buyback, nabs $15 billi...</td>\n",
       "      <td>1</td>\n",
       "      <td>{annotator1_id:22;annotator1_label:1; annotato...</td>\n",
       "    </tr>\n",
       "    <tr>\n",
       "      <th>1</th>\n",
       "      <td>2022-01-25</td>\n",
       "      <td>IMF directors urge El Salvador to remove Bitco...</td>\n",
       "      <td>-1</td>\n",
       "      <td>{annotator1_id:16;annotator1_label:-1; annotat...</td>\n",
       "    </tr>\n",
       "    <tr>\n",
       "      <th>2</th>\n",
       "      <td>2022-01-25</td>\n",
       "      <td>Dragonfly Capital is raising $500 million for ...</td>\n",
       "      <td>1</td>\n",
       "      <td>{annotator1_id:45;annotator1_label:1; annotato...</td>\n",
       "    </tr>\n",
       "    <tr>\n",
       "      <th>3</th>\n",
       "      <td>2022-01-25</td>\n",
       "      <td>Rick and Morty co-creator collaborates with Pa...</td>\n",
       "      <td>0</td>\n",
       "      <td>{annotator1_id:32;annotator1_label:0; annotato...</td>\n",
       "    </tr>\n",
       "    <tr>\n",
       "      <th>4</th>\n",
       "      <td>2022-01-25</td>\n",
       "      <td>How fintech SPACs lost their shine</td>\n",
       "      <td>0</td>\n",
       "      <td>{annotator1_id:48;annotator1_label:0; annotato...</td>\n",
       "    </tr>\n",
       "  </tbody>\n",
       "</table>\n",
       "</div>"
      ],
      "text/plain": [
       "         date                                               news  \\\n",
       "0  2022-01-25  Ripple announces stock buyback, nabs $15 billi...   \n",
       "1  2022-01-25  IMF directors urge El Salvador to remove Bitco...   \n",
       "2  2022-01-25  Dragonfly Capital is raising $500 million for ...   \n",
       "3  2022-01-25  Rick and Morty co-creator collaborates with Pa...   \n",
       "4  2022-01-25                 How fintech SPACs lost their shine   \n",
       "\n",
       "   final_manual_labelling                                          text_span  \n",
       "0                       1  {annotator1_id:22;annotator1_label:1; annotato...  \n",
       "1                      -1  {annotator1_id:16;annotator1_label:-1; annotat...  \n",
       "2                       1  {annotator1_id:45;annotator1_label:1; annotato...  \n",
       "3                       0  {annotator1_id:32;annotator1_label:0; annotato...  \n",
       "4                       0  {annotator1_id:48;annotator1_label:0; annotato...  "
      ]
     },
     "execution_count": 7,
     "metadata": {},
     "output_type": "execute_result"
    }
   ],
   "source": [
    "input_df.head()"
   ]
  },
  {
   "cell_type": "markdown",
   "id": "8e1e5314",
   "metadata": {},
   "source": [
    "#### Original finBERT"
   ]
  },
  {
   "cell_type": "code",
   "execution_count": 8,
   "id": "986c9518",
   "metadata": {
    "tags": []
   },
   "outputs": [],
   "source": [
    "tokenizer = AutoTokenizer.from_pretrained(\"ProsusAI/finbert\")\n",
    "model = AutoModelForSequenceClassification.from_pretrained(\"ProsusAI/finbert\")"
   ]
  },
  {
   "cell_type": "code",
   "execution_count": 9,
   "id": "d9242c6e",
   "metadata": {
    "tags": []
   },
   "outputs": [],
   "source": [
    "input_df[['Positive','Negative','Neutral']] = (input_df['news'].apply(apply_finbert)).apply(pd.Series)"
   ]
  },
  {
   "cell_type": "code",
   "execution_count": 10,
   "id": "cddc7358",
   "metadata": {
    "tags": []
   },
   "outputs": [
    {
     "data": {
      "text/html": [
       "<div>\n",
       "<style scoped>\n",
       "    .dataframe tbody tr th:only-of-type {\n",
       "        vertical-align: middle;\n",
       "    }\n",
       "\n",
       "    .dataframe tbody tr th {\n",
       "        vertical-align: top;\n",
       "    }\n",
       "\n",
       "    .dataframe thead th {\n",
       "        text-align: right;\n",
       "    }\n",
       "</style>\n",
       "<table border=\"1\" class=\"dataframe\">\n",
       "  <thead>\n",
       "    <tr style=\"text-align: right;\">\n",
       "      <th></th>\n",
       "      <th>date</th>\n",
       "      <th>news</th>\n",
       "      <th>final_manual_labelling</th>\n",
       "      <th>text_span</th>\n",
       "      <th>Positive</th>\n",
       "      <th>Negative</th>\n",
       "      <th>Neutral</th>\n",
       "    </tr>\n",
       "  </thead>\n",
       "  <tbody>\n",
       "    <tr>\n",
       "      <th>0</th>\n",
       "      <td>2022-01-25</td>\n",
       "      <td>Ripple announces stock buyback, nabs $15 billi...</td>\n",
       "      <td>1</td>\n",
       "      <td>{annotator1_id:22;annotator1_label:1; annotato...</td>\n",
       "      <td>0.098288</td>\n",
       "      <td>0.020569</td>\n",
       "      <td>0.881142</td>\n",
       "    </tr>\n",
       "    <tr>\n",
       "      <th>1</th>\n",
       "      <td>2022-01-25</td>\n",
       "      <td>IMF directors urge El Salvador to remove Bitco...</td>\n",
       "      <td>-1</td>\n",
       "      <td>{annotator1_id:16;annotator1_label:-1; annotat...</td>\n",
       "      <td>0.047823</td>\n",
       "      <td>0.162971</td>\n",
       "      <td>0.789207</td>\n",
       "    </tr>\n",
       "    <tr>\n",
       "      <th>2</th>\n",
       "      <td>2022-01-25</td>\n",
       "      <td>Dragonfly Capital is raising $500 million for ...</td>\n",
       "      <td>1</td>\n",
       "      <td>{annotator1_id:45;annotator1_label:1; annotato...</td>\n",
       "      <td>0.156997</td>\n",
       "      <td>0.008097</td>\n",
       "      <td>0.834906</td>\n",
       "    </tr>\n",
       "    <tr>\n",
       "      <th>3</th>\n",
       "      <td>2022-01-25</td>\n",
       "      <td>Rick and Morty co-creator collaborates with Pa...</td>\n",
       "      <td>0</td>\n",
       "      <td>{annotator1_id:32;annotator1_label:0; annotato...</td>\n",
       "      <td>0.055608</td>\n",
       "      <td>0.015489</td>\n",
       "      <td>0.928903</td>\n",
       "    </tr>\n",
       "    <tr>\n",
       "      <th>4</th>\n",
       "      <td>2022-01-25</td>\n",
       "      <td>How fintech SPACs lost their shine</td>\n",
       "      <td>0</td>\n",
       "      <td>{annotator1_id:48;annotator1_label:0; annotato...</td>\n",
       "      <td>0.039964</td>\n",
       "      <td>0.472788</td>\n",
       "      <td>0.487248</td>\n",
       "    </tr>\n",
       "  </tbody>\n",
       "</table>\n",
       "</div>"
      ],
      "text/plain": [
       "         date                                               news  \\\n",
       "0  2022-01-25  Ripple announces stock buyback, nabs $15 billi...   \n",
       "1  2022-01-25  IMF directors urge El Salvador to remove Bitco...   \n",
       "2  2022-01-25  Dragonfly Capital is raising $500 million for ...   \n",
       "3  2022-01-25  Rick and Morty co-creator collaborates with Pa...   \n",
       "4  2022-01-25                 How fintech SPACs lost their shine   \n",
       "\n",
       "   final_manual_labelling                                          text_span  \\\n",
       "0                       1  {annotator1_id:22;annotator1_label:1; annotato...   \n",
       "1                      -1  {annotator1_id:16;annotator1_label:-1; annotat...   \n",
       "2                       1  {annotator1_id:45;annotator1_label:1; annotato...   \n",
       "3                       0  {annotator1_id:32;annotator1_label:0; annotato...   \n",
       "4                       0  {annotator1_id:48;annotator1_label:0; annotato...   \n",
       "\n",
       "   Positive  Negative   Neutral  \n",
       "0  0.098288  0.020569  0.881142  \n",
       "1  0.047823  0.162971  0.789207  \n",
       "2  0.156997  0.008097  0.834906  \n",
       "3  0.055608  0.015489  0.928903  \n",
       "4  0.039964  0.472788  0.487248  "
      ]
     },
     "execution_count": 10,
     "metadata": {},
     "output_type": "execute_result"
    }
   ],
   "source": [
    "input_df.head()"
   ]
  },
  {
   "cell_type": "code",
   "execution_count": 11,
   "id": "9cdfbad6",
   "metadata": {
    "tags": []
   },
   "outputs": [],
   "source": [
    "non_trained_result = calculate_result(input_df)"
   ]
  },
  {
   "cell_type": "code",
   "execution_count": 12,
   "id": "e6615dd1",
   "metadata": {
    "tags": []
   },
   "outputs": [
    {
     "data": {
      "text/html": [
       "<div>\n",
       "<style scoped>\n",
       "    .dataframe tbody tr th:only-of-type {\n",
       "        vertical-align: middle;\n",
       "    }\n",
       "\n",
       "    .dataframe tbody tr th {\n",
       "        vertical-align: top;\n",
       "    }\n",
       "\n",
       "    .dataframe thead th {\n",
       "        text-align: right;\n",
       "    }\n",
       "</style>\n",
       "<table border=\"1\" class=\"dataframe\">\n",
       "  <thead>\n",
       "    <tr style=\"text-align: right;\">\n",
       "      <th></th>\n",
       "      <th>date</th>\n",
       "      <th>news</th>\n",
       "      <th>final_manual_labelling</th>\n",
       "      <th>text_span</th>\n",
       "      <th>Positive</th>\n",
       "      <th>Negative</th>\n",
       "      <th>Neutral</th>\n",
       "      <th>result</th>\n",
       "    </tr>\n",
       "  </thead>\n",
       "  <tbody>\n",
       "    <tr>\n",
       "      <th>0</th>\n",
       "      <td>2022-01-25</td>\n",
       "      <td>Ripple announces stock buyback, nabs $15 billi...</td>\n",
       "      <td>1</td>\n",
       "      <td>{annotator1_id:22;annotator1_label:1; annotato...</td>\n",
       "      <td>0.098288</td>\n",
       "      <td>0.020569</td>\n",
       "      <td>0.881142</td>\n",
       "      <td>0</td>\n",
       "    </tr>\n",
       "    <tr>\n",
       "      <th>1</th>\n",
       "      <td>2022-01-25</td>\n",
       "      <td>IMF directors urge El Salvador to remove Bitco...</td>\n",
       "      <td>-1</td>\n",
       "      <td>{annotator1_id:16;annotator1_label:-1; annotat...</td>\n",
       "      <td>0.047823</td>\n",
       "      <td>0.162971</td>\n",
       "      <td>0.789207</td>\n",
       "      <td>0</td>\n",
       "    </tr>\n",
       "    <tr>\n",
       "      <th>2</th>\n",
       "      <td>2022-01-25</td>\n",
       "      <td>Dragonfly Capital is raising $500 million for ...</td>\n",
       "      <td>1</td>\n",
       "      <td>{annotator1_id:45;annotator1_label:1; annotato...</td>\n",
       "      <td>0.156997</td>\n",
       "      <td>0.008097</td>\n",
       "      <td>0.834906</td>\n",
       "      <td>0</td>\n",
       "    </tr>\n",
       "    <tr>\n",
       "      <th>3</th>\n",
       "      <td>2022-01-25</td>\n",
       "      <td>Rick and Morty co-creator collaborates with Pa...</td>\n",
       "      <td>0</td>\n",
       "      <td>{annotator1_id:32;annotator1_label:0; annotato...</td>\n",
       "      <td>0.055608</td>\n",
       "      <td>0.015489</td>\n",
       "      <td>0.928903</td>\n",
       "      <td>0</td>\n",
       "    </tr>\n",
       "    <tr>\n",
       "      <th>4</th>\n",
       "      <td>2022-01-25</td>\n",
       "      <td>How fintech SPACs lost their shine</td>\n",
       "      <td>0</td>\n",
       "      <td>{annotator1_id:48;annotator1_label:0; annotato...</td>\n",
       "      <td>0.039964</td>\n",
       "      <td>0.472788</td>\n",
       "      <td>0.487248</td>\n",
       "      <td>0</td>\n",
       "    </tr>\n",
       "  </tbody>\n",
       "</table>\n",
       "</div>"
      ],
      "text/plain": [
       "         date                                               news  \\\n",
       "0  2022-01-25  Ripple announces stock buyback, nabs $15 billi...   \n",
       "1  2022-01-25  IMF directors urge El Salvador to remove Bitco...   \n",
       "2  2022-01-25  Dragonfly Capital is raising $500 million for ...   \n",
       "3  2022-01-25  Rick and Morty co-creator collaborates with Pa...   \n",
       "4  2022-01-25                 How fintech SPACs lost their shine   \n",
       "\n",
       "   final_manual_labelling                                          text_span  \\\n",
       "0                       1  {annotator1_id:22;annotator1_label:1; annotato...   \n",
       "1                      -1  {annotator1_id:16;annotator1_label:-1; annotat...   \n",
       "2                       1  {annotator1_id:45;annotator1_label:1; annotato...   \n",
       "3                       0  {annotator1_id:32;annotator1_label:0; annotato...   \n",
       "4                       0  {annotator1_id:48;annotator1_label:0; annotato...   \n",
       "\n",
       "   Positive  Negative   Neutral  result  \n",
       "0  0.098288  0.020569  0.881142       0  \n",
       "1  0.047823  0.162971  0.789207       0  \n",
       "2  0.156997  0.008097  0.834906       0  \n",
       "3  0.055608  0.015489  0.928903       0  \n",
       "4  0.039964  0.472788  0.487248       0  "
      ]
     },
     "execution_count": 12,
     "metadata": {},
     "output_type": "execute_result"
    }
   ],
   "source": [
    "non_trained_result.head()"
   ]
  },
  {
   "cell_type": "code",
   "execution_count": 13,
   "id": "98bec8fe",
   "metadata": {
    "tags": []
   },
   "outputs": [
    {
     "data": {
      "text/plain": [
       "0.5143496086470369"
      ]
     },
     "execution_count": 13,
     "metadata": {},
     "output_type": "execute_result"
    }
   ],
   "source": [
    "#The accuracy with the original FinBERT:\n",
    "accuracy_score(y_true=non_trained_result['final_manual_labelling'], y_pred=non_trained_result['result'])"
   ]
  },
  {
   "cell_type": "markdown",
   "id": "dc4dd1a0",
   "metadata": {},
   "source": [
    "#### Retraining Finbert"
   ]
  },
  {
   "cell_type": "code",
   "execution_count": 18,
   "id": "32ccc227",
   "metadata": {
    "tags": []
   },
   "outputs": [],
   "source": [
    "df = input_df[['news','final_manual_labelling']]\n",
    "df.columns = ['news','labels']"
   ]
  },
  {
   "cell_type": "code",
   "execution_count": 19,
   "id": "5d26cd78",
   "metadata": {
    "tags": []
   },
   "outputs": [
    {
     "data": {
      "text/html": [
       "<div>\n",
       "<style scoped>\n",
       "    .dataframe tbody tr th:only-of-type {\n",
       "        vertical-align: middle;\n",
       "    }\n",
       "\n",
       "    .dataframe tbody tr th {\n",
       "        vertical-align: top;\n",
       "    }\n",
       "\n",
       "    .dataframe thead th {\n",
       "        text-align: right;\n",
       "    }\n",
       "</style>\n",
       "<table border=\"1\" class=\"dataframe\">\n",
       "  <thead>\n",
       "    <tr style=\"text-align: right;\">\n",
       "      <th></th>\n",
       "      <th>news</th>\n",
       "      <th>labels</th>\n",
       "    </tr>\n",
       "  </thead>\n",
       "  <tbody>\n",
       "    <tr>\n",
       "      <th>0</th>\n",
       "      <td>Ripple announces stock buyback, nabs $15 billi...</td>\n",
       "      <td>1</td>\n",
       "    </tr>\n",
       "    <tr>\n",
       "      <th>1</th>\n",
       "      <td>IMF directors urge El Salvador to remove Bitco...</td>\n",
       "      <td>-1</td>\n",
       "    </tr>\n",
       "    <tr>\n",
       "      <th>2</th>\n",
       "      <td>Dragonfly Capital is raising $500 million for ...</td>\n",
       "      <td>1</td>\n",
       "    </tr>\n",
       "    <tr>\n",
       "      <th>3</th>\n",
       "      <td>Rick and Morty co-creator collaborates with Pa...</td>\n",
       "      <td>0</td>\n",
       "    </tr>\n",
       "    <tr>\n",
       "      <th>4</th>\n",
       "      <td>How fintech SPACs lost their shine</td>\n",
       "      <td>0</td>\n",
       "    </tr>\n",
       "  </tbody>\n",
       "</table>\n",
       "</div>"
      ],
      "text/plain": [
       "                                                news  labels\n",
       "0  Ripple announces stock buyback, nabs $15 billi...       1\n",
       "1  IMF directors urge El Salvador to remove Bitco...      -1\n",
       "2  Dragonfly Capital is raising $500 million for ...       1\n",
       "3  Rick and Morty co-creator collaborates with Pa...       0\n",
       "4                 How fintech SPACs lost their shine       0"
      ]
     },
     "execution_count": 19,
     "metadata": {},
     "output_type": "execute_result"
    }
   ],
   "source": [
    "df.head()"
   ]
  },
  {
   "cell_type": "code",
   "execution_count": 20,
   "id": "c4e5f25a",
   "metadata": {
    "tags": []
   },
   "outputs": [],
   "source": [
    "#Giving a +1 offset to the target variable:\n",
    "df['labels'].replace({1:2},inplace=True)\n",
    "df['labels'].replace({0:1},inplace=True)\n",
    "df['labels'].replace({-1:0},inplace=True)"
   ]
  },
  {
   "cell_type": "code",
   "execution_count": 15,
   "id": "ce029b36",
   "metadata": {
    "tags": []
   },
   "outputs": [],
   "source": [
    "# Preprocess data\n",
    "X = list(df[\"news\"])\n",
    "y = list(df[\"labels\"])\n",
    "X_train, X_val, y_train, y_val = train_test_split(X, y, test_size=0.2)\n",
    "X_val_2, X_test, y_val_2, y_test = train_test_split(X_val, y_val, test_size=0.2)\n",
    "X_train_tokenized = tokenizer(X_train, padding=True, truncation=True, max_length=512)\n",
    "X_val_tokenized = tokenizer(X_val_2, padding=True, truncation=True, max_length=512)\n",
    "X_test_tokenized = tokenizer(X_test, padding=True, truncation=True, max_length=512)"
   ]
  },
  {
   "cell_type": "code",
   "execution_count": 16,
   "id": "dc3bd590",
   "metadata": {
    "tags": []
   },
   "outputs": [],
   "source": [
    "train_dataset = Dataset(X_train_tokenized, y_train)\n",
    "val_dataset = Dataset(X_val_tokenized, y_val)"
   ]
  },
  {
   "cell_type": "code",
   "execution_count": 17,
   "id": "54ffb5b9",
   "metadata": {
    "tags": []
   },
   "outputs": [],
   "source": [
    "# Define Trainer\n",
    "args = TrainingArguments(\n",
    "    output_dir=\"first_test\",\n",
    "    evaluation_strategy=\"steps\",\n",
    "    eval_steps=500,\n",
    "    per_device_train_batch_size=8,\n",
    "    per_device_eval_batch_size=8,\n",
    "    num_train_epochs=4,\n",
    "    seed=0,\n",
    "    load_best_model_at_end=True,\n",
    ")"
   ]
  },
  {
   "cell_type": "code",
   "execution_count": 18,
   "id": "3492de7c",
   "metadata": {
    "tags": []
   },
   "outputs": [],
   "source": [
    "trainer = Trainer(\n",
    "    model=model,\n",
    "    args=args,\n",
    "    train_dataset=train_dataset,\n",
    "    eval_dataset=val_dataset,\n",
    "    compute_metrics=compute_metrics,\n",
    "    callbacks=[EarlyStoppingCallback(early_stopping_patience=3)],\n",
    ")"
   ]
  },
  {
   "cell_type": "code",
   "execution_count": 19,
   "id": "17fa7f3b",
   "metadata": {
    "tags": []
   },
   "outputs": [
    {
     "data": {
      "text/html": [
       "\n",
       "    <div>\n",
       "      \n",
       "      <progress value='1076' max='1076' style='width:300px; height:20px; vertical-align: middle;'></progress>\n",
       "      [1076/1076 06:06, Epoch 4/4]\n",
       "    </div>\n",
       "    <table border=\"1\" class=\"dataframe\">\n",
       "  <thead>\n",
       " <tr style=\"text-align: left;\">\n",
       "      <th>Step</th>\n",
       "      <th>Training Loss</th>\n",
       "      <th>Validation Loss</th>\n",
       "      <th>Accuracy</th>\n",
       "    </tr>\n",
       "  </thead>\n",
       "  <tbody>\n",
       "    <tr>\n",
       "      <td>500</td>\n",
       "      <td>0.662600</td>\n",
       "      <td>2.031116</td>\n",
       "      <td>0.435897</td>\n",
       "    </tr>\n",
       "    <tr>\n",
       "      <td>1000</td>\n",
       "      <td>0.261600</td>\n",
       "      <td>3.120428</td>\n",
       "      <td>0.435897</td>\n",
       "    </tr>\n",
       "  </tbody>\n",
       "</table><p>"
      ],
      "text/plain": [
       "<IPython.core.display.HTML object>"
      ]
     },
     "metadata": {},
     "output_type": "display_data"
    },
    {
     "name": "stderr",
     "output_type": "stream",
     "text": [
      "Checkpoint destination directory first_test/checkpoint-500 already exists and is non-empty. Saving will proceed but saved results may be invalid.\n",
      "Checkpoint destination directory first_test/checkpoint-1000 already exists and is non-empty. Saving will proceed but saved results may be invalid.\n"
     ]
    },
    {
     "data": {
      "text/plain": [
       "TrainOutput(global_step=1076, training_loss=0.43966309643146273, metrics={'train_runtime': 367.6347, 'train_samples_per_second': 23.349, 'train_steps_per_second': 2.927, 'total_flos': 149982870399264.0, 'train_loss': 0.43966309643146273, 'epoch': 4.0})"
      ]
     },
     "execution_count": 19,
     "metadata": {},
     "output_type": "execute_result"
    }
   ],
   "source": [
    "# Train pre-trained model\n",
    "trainer.train()"
   ]
  },
  {
   "cell_type": "code",
   "execution_count": 20,
   "id": "692e9009",
   "metadata": {
    "tags": []
   },
   "outputs": [],
   "source": [
    "# ----- 3. Predicting -----#\n",
    "# Create torch dataset\n",
    "test_dataset = Dataset(X_test_tokenized, y_test)"
   ]
  },
  {
   "cell_type": "code",
   "execution_count": 21,
   "id": "b649a215",
   "metadata": {
    "tags": []
   },
   "outputs": [],
   "source": [
    "# Load trained model\n",
    "model_path = \"first_test/checkpoint-500\"\n",
    "model = BertForSequenceClassification.from_pretrained(model_path, num_labels=3)"
   ]
  },
  {
   "cell_type": "code",
   "execution_count": 22,
   "id": "4350a44c",
   "metadata": {
    "tags": []
   },
   "outputs": [],
   "source": [
    "# Define test trainer\n",
    "test_trainer = Trainer(model)"
   ]
  },
  {
   "cell_type": "code",
   "execution_count": 23,
   "id": "541327cf",
   "metadata": {
    "tags": []
   },
   "outputs": [
    {
     "data": {
      "text/html": [],
      "text/plain": [
       "<IPython.core.display.HTML object>"
      ]
     },
     "metadata": {},
     "output_type": "display_data"
    }
   ],
   "source": [
    " #Make prediction\n",
    "raw_pred, _, _ = test_trainer.predict(test_dataset)"
   ]
  },
  {
   "cell_type": "code",
   "execution_count": 24,
   "id": "ed2e0631",
   "metadata": {
    "tags": []
   },
   "outputs": [],
   "source": [
    "# Preprocess raw predictions\n",
    "y_pred = np.argmax(raw_pred, axis=1)"
   ]
  },
  {
   "cell_type": "code",
   "execution_count": 25,
   "id": "ffdb8207",
   "metadata": {
    "tags": []
   },
   "outputs": [
    {
     "data": {
      "text/plain": [
       "0.6666666666666666"
      ]
     },
     "execution_count": 25,
     "metadata": {},
     "output_type": "execute_result"
    }
   ],
   "source": [
    "#The accuracy with the re-trained FinBERT:\n",
    "accuracy_score(y_true=y_test, y_pred=y_pred)"
   ]
  },
  {
   "cell_type": "code",
   "execution_count": 26,
   "id": "d5ae45c7",
   "metadata": {
    "tags": []
   },
   "outputs": [],
   "source": [
    "#The accuracy of the original finbert:\n",
    "X_test_df = pd.DataFrame()\n",
    "X_test_df['news']=X_test\n",
    "X_test_df['labels']=y_test"
   ]
  },
  {
   "cell_type": "code",
   "execution_count": 27,
   "id": "b0d517b7",
   "metadata": {
    "tags": []
   },
   "outputs": [
    {
     "data": {
      "text/html": [
       "<div>\n",
       "<style scoped>\n",
       "    .dataframe tbody tr th:only-of-type {\n",
       "        vertical-align: middle;\n",
       "    }\n",
       "\n",
       "    .dataframe tbody tr th {\n",
       "        vertical-align: top;\n",
       "    }\n",
       "\n",
       "    .dataframe thead th {\n",
       "        text-align: right;\n",
       "    }\n",
       "</style>\n",
       "<table border=\"1\" class=\"dataframe\">\n",
       "  <thead>\n",
       "    <tr style=\"text-align: right;\">\n",
       "      <th></th>\n",
       "      <th>news</th>\n",
       "      <th>labels</th>\n",
       "    </tr>\n",
       "  </thead>\n",
       "  <tbody>\n",
       "    <tr>\n",
       "      <th>0</th>\n",
       "      <td>Calamari Network Rolls Out Community Governanc...</td>\n",
       "      <td>2</td>\n",
       "    </tr>\n",
       "    <tr>\n",
       "      <th>1</th>\n",
       "      <td>Gemini acquires crypto custody startup Shard X</td>\n",
       "      <td>1</td>\n",
       "    </tr>\n",
       "    <tr>\n",
       "      <th>2</th>\n",
       "      <td>Sen. Sherrod Brown tells the Fed to move forwa...</td>\n",
       "      <td>1</td>\n",
       "    </tr>\n",
       "    <tr>\n",
       "      <th>3</th>\n",
       "      <td>What Happens to Bitcoin if the Dollar Crashes?</td>\n",
       "      <td>1</td>\n",
       "    </tr>\n",
       "    <tr>\n",
       "      <th>4</th>\n",
       "      <td>Higher and Safer APR gets 200% bigger: Meet Ph...</td>\n",
       "      <td>1</td>\n",
       "    </tr>\n",
       "  </tbody>\n",
       "</table>\n",
       "</div>"
      ],
      "text/plain": [
       "                                                news  labels\n",
       "0  Calamari Network Rolls Out Community Governanc...       2\n",
       "1     Gemini acquires crypto custody startup Shard X       1\n",
       "2  Sen. Sherrod Brown tells the Fed to move forwa...       1\n",
       "3     What Happens to Bitcoin if the Dollar Crashes?       1\n",
       "4  Higher and Safer APR gets 200% bigger: Meet Ph...       1"
      ]
     },
     "execution_count": 27,
     "metadata": {},
     "output_type": "execute_result"
    }
   ],
   "source": [
    "X_test_df.head()"
   ]
  },
  {
   "cell_type": "code",
   "execution_count": 28,
   "id": "d02bc7da",
   "metadata": {
    "tags": []
   },
   "outputs": [
    {
     "data": {
      "text/plain": [
       "(108, 2)"
      ]
     },
     "execution_count": 28,
     "metadata": {},
     "output_type": "execute_result"
    }
   ],
   "source": [
    "X_test_df.shape"
   ]
  },
  {
   "cell_type": "code",
   "execution_count": 29,
   "id": "e6391588",
   "metadata": {
    "tags": []
   },
   "outputs": [],
   "source": [
    "X_test_df['labels'].replace({0:-1},inplace=True)\n",
    "X_test_df['labels'].replace({1:0},inplace=True)\n",
    "X_test_df['labels'].replace({2:1},inplace=True)"
   ]
  },
  {
   "cell_type": "code",
   "execution_count": 30,
   "id": "a37ffe7e",
   "metadata": {
    "tags": []
   },
   "outputs": [
    {
     "data": {
      "text/html": [
       "<div>\n",
       "<style scoped>\n",
       "    .dataframe tbody tr th:only-of-type {\n",
       "        vertical-align: middle;\n",
       "    }\n",
       "\n",
       "    .dataframe tbody tr th {\n",
       "        vertical-align: top;\n",
       "    }\n",
       "\n",
       "    .dataframe thead th {\n",
       "        text-align: right;\n",
       "    }\n",
       "</style>\n",
       "<table border=\"1\" class=\"dataframe\">\n",
       "  <thead>\n",
       "    <tr style=\"text-align: right;\">\n",
       "      <th></th>\n",
       "      <th>news</th>\n",
       "      <th>labels</th>\n",
       "    </tr>\n",
       "  </thead>\n",
       "  <tbody>\n",
       "    <tr>\n",
       "      <th>0</th>\n",
       "      <td>Calamari Network Rolls Out Community Governanc...</td>\n",
       "      <td>1</td>\n",
       "    </tr>\n",
       "    <tr>\n",
       "      <th>1</th>\n",
       "      <td>Gemini acquires crypto custody startup Shard X</td>\n",
       "      <td>0</td>\n",
       "    </tr>\n",
       "    <tr>\n",
       "      <th>2</th>\n",
       "      <td>Sen. Sherrod Brown tells the Fed to move forwa...</td>\n",
       "      <td>0</td>\n",
       "    </tr>\n",
       "    <tr>\n",
       "      <th>3</th>\n",
       "      <td>What Happens to Bitcoin if the Dollar Crashes?</td>\n",
       "      <td>0</td>\n",
       "    </tr>\n",
       "    <tr>\n",
       "      <th>4</th>\n",
       "      <td>Higher and Safer APR gets 200% bigger: Meet Ph...</td>\n",
       "      <td>0</td>\n",
       "    </tr>\n",
       "  </tbody>\n",
       "</table>\n",
       "</div>"
      ],
      "text/plain": [
       "                                                news  labels\n",
       "0  Calamari Network Rolls Out Community Governanc...       1\n",
       "1     Gemini acquires crypto custody startup Shard X       0\n",
       "2  Sen. Sherrod Brown tells the Fed to move forwa...       0\n",
       "3     What Happens to Bitcoin if the Dollar Crashes?       0\n",
       "4  Higher and Safer APR gets 200% bigger: Meet Ph...       0"
      ]
     },
     "execution_count": 30,
     "metadata": {},
     "output_type": "execute_result"
    }
   ],
   "source": [
    "X_test_df.head()"
   ]
  },
  {
   "cell_type": "code",
   "execution_count": 31,
   "id": "74e7a829",
   "metadata": {
    "tags": []
   },
   "outputs": [],
   "source": [
    "X_test_df[['Positive','Negative','Neutral']] = (X_test_df['news'].apply(apply_finbert)).apply(pd.Series)"
   ]
  },
  {
   "cell_type": "code",
   "execution_count": 32,
   "id": "1a3a8f43",
   "metadata": {
    "tags": []
   },
   "outputs": [],
   "source": [
    "result_df = calculate_result(X_test_df)"
   ]
  },
  {
   "cell_type": "code",
   "execution_count": 33,
   "id": "00bdad9a",
   "metadata": {
    "tags": []
   },
   "outputs": [
    {
     "data": {
      "text/html": [
       "<div>\n",
       "<style scoped>\n",
       "    .dataframe tbody tr th:only-of-type {\n",
       "        vertical-align: middle;\n",
       "    }\n",
       "\n",
       "    .dataframe tbody tr th {\n",
       "        vertical-align: top;\n",
       "    }\n",
       "\n",
       "    .dataframe thead th {\n",
       "        text-align: right;\n",
       "    }\n",
       "</style>\n",
       "<table border=\"1\" class=\"dataframe\">\n",
       "  <thead>\n",
       "    <tr style=\"text-align: right;\">\n",
       "      <th></th>\n",
       "      <th>news</th>\n",
       "      <th>labels</th>\n",
       "      <th>Positive</th>\n",
       "      <th>Negative</th>\n",
       "      <th>Neutral</th>\n",
       "      <th>result</th>\n",
       "    </tr>\n",
       "  </thead>\n",
       "  <tbody>\n",
       "    <tr>\n",
       "      <th>0</th>\n",
       "      <td>Calamari Network Rolls Out Community Governanc...</td>\n",
       "      <td>1</td>\n",
       "      <td>0.013107</td>\n",
       "      <td>0.304759</td>\n",
       "      <td>0.682134</td>\n",
       "      <td>0</td>\n",
       "    </tr>\n",
       "    <tr>\n",
       "      <th>1</th>\n",
       "      <td>Gemini acquires crypto custody startup Shard X</td>\n",
       "      <td>0</td>\n",
       "      <td>0.001792</td>\n",
       "      <td>0.040396</td>\n",
       "      <td>0.957812</td>\n",
       "      <td>0</td>\n",
       "    </tr>\n",
       "    <tr>\n",
       "      <th>2</th>\n",
       "      <td>Sen. Sherrod Brown tells the Fed to move forwa...</td>\n",
       "      <td>0</td>\n",
       "      <td>0.067053</td>\n",
       "      <td>0.887254</td>\n",
       "      <td>0.045694</td>\n",
       "      <td>-1</td>\n",
       "    </tr>\n",
       "    <tr>\n",
       "      <th>3</th>\n",
       "      <td>What Happens to Bitcoin if the Dollar Crashes?</td>\n",
       "      <td>0</td>\n",
       "      <td>0.024612</td>\n",
       "      <td>0.950764</td>\n",
       "      <td>0.024625</td>\n",
       "      <td>-1</td>\n",
       "    </tr>\n",
       "    <tr>\n",
       "      <th>4</th>\n",
       "      <td>Higher and Safer APR gets 200% bigger: Meet Ph...</td>\n",
       "      <td>0</td>\n",
       "      <td>0.010688</td>\n",
       "      <td>0.820045</td>\n",
       "      <td>0.169266</td>\n",
       "      <td>-1</td>\n",
       "    </tr>\n",
       "  </tbody>\n",
       "</table>\n",
       "</div>"
      ],
      "text/plain": [
       "                                                news  labels  Positive  \\\n",
       "0  Calamari Network Rolls Out Community Governanc...       1  0.013107   \n",
       "1     Gemini acquires crypto custody startup Shard X       0  0.001792   \n",
       "2  Sen. Sherrod Brown tells the Fed to move forwa...       0  0.067053   \n",
       "3     What Happens to Bitcoin if the Dollar Crashes?       0  0.024612   \n",
       "4  Higher and Safer APR gets 200% bigger: Meet Ph...       0  0.010688   \n",
       "\n",
       "   Negative   Neutral  result  \n",
       "0  0.304759  0.682134       0  \n",
       "1  0.040396  0.957812       0  \n",
       "2  0.887254  0.045694      -1  \n",
       "3  0.950764  0.024625      -1  \n",
       "4  0.820045  0.169266      -1  "
      ]
     },
     "execution_count": 33,
     "metadata": {},
     "output_type": "execute_result"
    }
   ],
   "source": [
    "result_df.head()"
   ]
  },
  {
   "cell_type": "code",
   "execution_count": 34,
   "id": "874fc046",
   "metadata": {
    "tags": []
   },
   "outputs": [
    {
     "data": {
      "text/plain": [
       "(108, 6)"
      ]
     },
     "execution_count": 34,
     "metadata": {},
     "output_type": "execute_result"
    }
   ],
   "source": [
    "result_df.shape"
   ]
  },
  {
   "cell_type": "code",
   "execution_count": 35,
   "id": "9fbfd87f",
   "metadata": {
    "tags": []
   },
   "outputs": [
    {
     "data": {
      "text/plain": [
       "0.18518518518518517"
      ]
     },
     "execution_count": 35,
     "metadata": {},
     "output_type": "execute_result"
    }
   ],
   "source": [
    "#The accuracy with the original FinBERT:\n",
    "accuracy_score(y_true=result_df['labels'], y_pred=result_df['result'])"
   ]
  },
  {
   "cell_type": "markdown",
   "id": "db9e5090",
   "metadata": {},
   "source": [
    "#### Testing feature enginnering to improve the model accuracy"
   ]
  },
  {
   "cell_type": "code",
   "execution_count": 21,
   "id": "e7cf552e",
   "metadata": {
    "scrolled": true,
    "tags": []
   },
   "outputs": [],
   "source": [
    "stop_words = stopwords.words('english')\n",
    "df['news'] = df['news'].apply(lambda x: ' '.join([word for word in x.split() if word not in (stop_words)]))\n",
    "df[\"news\"] = df[\"news\"].str.lower()\n",
    "df[\"news\"] = df['news'].str.replace('[^\\w\\s]','')"
   ]
  },
  {
   "cell_type": "code",
   "execution_count": 22,
   "id": "ad1100b6",
   "metadata": {
    "tags": []
   },
   "outputs": [],
   "source": [
    "lemmatizer = WordNetLemmatizer()\n",
    "df['lemmetized_titles'] = df['news'].apply(lemmetize_titles)"
   ]
  },
  {
   "cell_type": "code",
   "execution_count": 23,
   "id": "741ee4ee",
   "metadata": {
    "tags": []
   },
   "outputs": [
    {
     "data": {
      "text/html": [
       "<div>\n",
       "<style scoped>\n",
       "    .dataframe tbody tr th:only-of-type {\n",
       "        vertical-align: middle;\n",
       "    }\n",
       "\n",
       "    .dataframe tbody tr th {\n",
       "        vertical-align: top;\n",
       "    }\n",
       "\n",
       "    .dataframe thead th {\n",
       "        text-align: right;\n",
       "    }\n",
       "</style>\n",
       "<table border=\"1\" class=\"dataframe\">\n",
       "  <thead>\n",
       "    <tr style=\"text-align: right;\">\n",
       "      <th></th>\n",
       "      <th>news</th>\n",
       "      <th>labels</th>\n",
       "      <th>lemmetized_titles</th>\n",
       "    </tr>\n",
       "  </thead>\n",
       "  <tbody>\n",
       "    <tr>\n",
       "      <th>0</th>\n",
       "      <td>ripple announces stock buyback nabs 15 billion...</td>\n",
       "      <td>2</td>\n",
       "      <td>ripple announces stock buyback nabs 15 billion...</td>\n",
       "    </tr>\n",
       "    <tr>\n",
       "      <th>1</th>\n",
       "      <td>imf directors urge el salvador remove bitcoin ...</td>\n",
       "      <td>0</td>\n",
       "      <td>imf director urge el salvador remove bitcoin l...</td>\n",
       "    </tr>\n",
       "    <tr>\n",
       "      <th>2</th>\n",
       "      <td>dragonfly capital raising 500 million new fund</td>\n",
       "      <td>2</td>\n",
       "      <td>dragonfly capital raising 500 million new fund</td>\n",
       "    </tr>\n",
       "    <tr>\n",
       "      <th>3</th>\n",
       "      <td>rick morty cocreator collaborates paradigm nft...</td>\n",
       "      <td>1</td>\n",
       "      <td>rick morty cocreator collaborates paradigm nft...</td>\n",
       "    </tr>\n",
       "    <tr>\n",
       "      <th>4</th>\n",
       "      <td>how fintech spacs lost shine</td>\n",
       "      <td>1</td>\n",
       "      <td>how fintech spacs lost shine</td>\n",
       "    </tr>\n",
       "  </tbody>\n",
       "</table>\n",
       "</div>"
      ],
      "text/plain": [
       "                                                news  labels  \\\n",
       "0  ripple announces stock buyback nabs 15 billion...       2   \n",
       "1  imf directors urge el salvador remove bitcoin ...       0   \n",
       "2     dragonfly capital raising 500 million new fund       2   \n",
       "3  rick morty cocreator collaborates paradigm nft...       1   \n",
       "4                       how fintech spacs lost shine       1   \n",
       "\n",
       "                                   lemmetized_titles  \n",
       "0  ripple announces stock buyback nabs 15 billion...  \n",
       "1  imf director urge el salvador remove bitcoin l...  \n",
       "2     dragonfly capital raising 500 million new fund  \n",
       "3  rick morty cocreator collaborates paradigm nft...  \n",
       "4                       how fintech spacs lost shine  "
      ]
     },
     "execution_count": 23,
     "metadata": {},
     "output_type": "execute_result"
    }
   ],
   "source": [
    "df.head()"
   ]
  },
  {
   "cell_type": "code",
   "execution_count": 24,
   "id": "02ad7887",
   "metadata": {
    "tags": []
   },
   "outputs": [],
   "source": [
    "# Preprocess data\n",
    "X = list(df[\"lemmetized_titles\"])\n",
    "y = list(df[\"labels\"])\n",
    "X_train, X_val, y_train, y_val = train_test_split(X, y, test_size=0.2)\n",
    "X_val_2, X_test, y_val_2, y_test = train_test_split(X_val, y_val, test_size=0.2)\n",
    "X_train_tokenized = tokenizer(X_train, padding=True, truncation=True, max_length=512)\n",
    "X_val_tokenized = tokenizer(X_val_2, padding=True, truncation=True, max_length=512)\n",
    "X_test_tokenized = tokenizer(X_test, padding=True, truncation=True, max_length=512)"
   ]
  },
  {
   "cell_type": "code",
   "execution_count": 25,
   "id": "e703bb8c",
   "metadata": {
    "tags": []
   },
   "outputs": [],
   "source": [
    "train_dataset = Dataset(X_train_tokenized, y_train)\n",
    "val_dataset = Dataset(X_val_tokenized, y_val)\n",
    "test_dataset = Dataset(X_test_tokenized, y_test)"
   ]
  },
  {
   "cell_type": "code",
   "execution_count": 26,
   "id": "0147ca3a-aea2-4737-a25a-57e69717b130",
   "metadata": {
    "tags": []
   },
   "outputs": [],
   "source": [
    "data_collator = DataCollatorWithPadding(tokenizer=tokenizer, return_tensors=\"pt\")\n",
    "training_args = TrainingArguments(\n",
    "    output_dir='final_model/',          # output directory for checkpoints\n",
    "    num_train_epochs=3,              # total number of training epochs\n",
    "    per_device_train_batch_size=8,   # batch size per device during training\n",
    "    per_device_eval_batch_size=8,    # batch size for evaluation\n",
    "    warmup_steps=500,                # number of warmup steps for learning rate scheduler\n",
    "    weight_decay=0.01,               # strength of weight decay\n",
    "    logging_dir='logs/',            # directory for storing logs\n",
    "    logging_steps=10,\n",
    "    load_best_model_at_end=True,\n",
    "    metric_for_best_model='accuracy',\n",
    "    evaluation_strategy=\"epoch\",        # evaluate at the end of each epoch\n",
    "    save_strategy=\"epoch\",  \n",
    ")\n",
    "\n",
    "trainer = Trainer(\n",
    "    model=model,\n",
    "    args=training_args,\n",
    "    train_dataset=train_dataset,\n",
    "    eval_dataset=val_dataset,\n",
    "    data_collator=data_collator,  # Use the dynamic padding data collator\n",
    "    compute_metrics=compute_metrics,\n",
    ")"
   ]
  },
  {
   "cell_type": "code",
   "execution_count": 52,
   "id": "16a0ea4f",
   "metadata": {
    "scrolled": true,
    "tags": []
   },
   "outputs": [
    {
     "data": {
      "text/html": [
       "\n",
       "    <div>\n",
       "      \n",
       "      <progress value='807' max='807' style='width:300px; height:20px; vertical-align: middle;'></progress>\n",
       "      [807/807 04:33, Epoch 3/3]\n",
       "    </div>\n",
       "    <table border=\"1\" class=\"dataframe\">\n",
       "  <thead>\n",
       " <tr style=\"text-align: left;\">\n",
       "      <th>Epoch</th>\n",
       "      <th>Training Loss</th>\n",
       "      <th>Validation Loss</th>\n",
       "      <th>Accuracy</th>\n",
       "    </tr>\n",
       "  </thead>\n",
       "  <tbody>\n",
       "    <tr>\n",
       "      <td>1</td>\n",
       "      <td>0.271600</td>\n",
       "      <td>3.467583</td>\n",
       "      <td>0.386946</td>\n",
       "    </tr>\n",
       "    <tr>\n",
       "      <td>2</td>\n",
       "      <td>0.256600</td>\n",
       "      <td>3.429484</td>\n",
       "      <td>0.398601</td>\n",
       "    </tr>\n",
       "    <tr>\n",
       "      <td>3</td>\n",
       "      <td>0.152300</td>\n",
       "      <td>4.036821</td>\n",
       "      <td>0.403263</td>\n",
       "    </tr>\n",
       "  </tbody>\n",
       "</table><p>"
      ],
      "text/plain": [
       "<IPython.core.display.HTML object>"
      ]
     },
     "metadata": {},
     "output_type": "display_data"
    },
    {
     "data": {
      "text/plain": [
       "TrainOutput(global_step=807, training_loss=0.16719053310827992, metrics={'train_runtime': 273.5665, 'train_samples_per_second': 23.534, 'train_steps_per_second': 2.95, 'total_flos': 102561815787732.0, 'train_loss': 0.16719053310827992, 'epoch': 3.0})"
      ]
     },
     "execution_count": 52,
     "metadata": {},
     "output_type": "execute_result"
    }
   ],
   "source": [
    "# Train pre-trained model\n",
    "trainer.train()"
   ]
  },
  {
   "cell_type": "code",
   "execution_count": 27,
   "id": "c7f21b73",
   "metadata": {
    "tags": []
   },
   "outputs": [],
   "source": [
    "# Load trained model\n",
    "model_path = \"final_model/checkpoint-807\"\n",
    "model = BertForSequenceClassification.from_pretrained(model_path, num_labels=3)"
   ]
  },
  {
   "cell_type": "code",
   "execution_count": 28,
   "id": "81797899",
   "metadata": {
    "tags": []
   },
   "outputs": [],
   "source": [
    "# Define test trainer\n",
    "test_trainer = Trainer(model)"
   ]
  },
  {
   "cell_type": "code",
   "execution_count": 29,
   "id": "8317c366",
   "metadata": {
    "tags": []
   },
   "outputs": [
    {
     "data": {
      "text/html": [],
      "text/plain": [
       "<IPython.core.display.HTML object>"
      ]
     },
     "metadata": {},
     "output_type": "display_data"
    }
   ],
   "source": [
    " #Make prediction\n",
    "raw_pred, _, _ = test_trainer.predict(test_dataset)"
   ]
  },
  {
   "cell_type": "code",
   "execution_count": 30,
   "id": "20c3c375",
   "metadata": {
    "tags": []
   },
   "outputs": [],
   "source": [
    "# Preprocess raw predictions\n",
    "y_pred = np.argmax(raw_pred, axis=1)"
   ]
  },
  {
   "cell_type": "code",
   "execution_count": 31,
   "id": "f54d6793",
   "metadata": {
    "tags": []
   },
   "outputs": [
    {
     "data": {
      "text/plain": [
       "0.9166666666666666"
      ]
     },
     "execution_count": 31,
     "metadata": {},
     "output_type": "execute_result"
    }
   ],
   "source": [
    "#The accuracy with the re-trained FinBERT:\n",
    "accuracy_score(y_true=y_test, y_pred=y_pred)"
   ]
  },
  {
   "cell_type": "code",
   "execution_count": 32,
   "id": "f21132cc",
   "metadata": {
    "tags": []
   },
   "outputs": [],
   "source": [
    "from sklearn.metrics import f1_score, precision_score, recall_score, roc_auc_score, confusion_matrix"
   ]
  },
  {
   "cell_type": "code",
   "execution_count": 33,
   "id": "d083b98d",
   "metadata": {
    "tags": []
   },
   "outputs": [
    {
     "data": {
      "text/plain": [
       "array([[18,  0,  0],\n",
       "       [ 1, 28,  3],\n",
       "       [ 1,  4, 53]])"
      ]
     },
     "execution_count": 33,
     "metadata": {},
     "output_type": "execute_result"
    }
   ],
   "source": [
    "confusion_matrix(y_true=y_test, y_pred=y_pred)"
   ]
  },
  {
   "cell_type": "code",
   "execution_count": 34,
   "id": "9527776e",
   "metadata": {
    "tags": []
   },
   "outputs": [
    {
     "data": {
      "text/html": [],
      "text/plain": [
       "<IPython.core.display.HTML object>"
      ]
     },
     "metadata": {},
     "output_type": "display_data"
    }
   ],
   "source": [
    "raw_pred, _, _ = test_trainer.predict(train_dataset)"
   ]
  },
  {
   "cell_type": "code",
   "execution_count": 35,
   "id": "d0817428",
   "metadata": {
    "tags": []
   },
   "outputs": [],
   "source": [
    "y_pred = np.argmax(raw_pred, axis=1)"
   ]
  },
  {
   "cell_type": "code",
   "execution_count": 36,
   "id": "5f3e1efc",
   "metadata": {
    "tags": []
   },
   "outputs": [
    {
     "data": {
      "text/plain": [
       "0.9394221808014911"
      ]
     },
     "execution_count": 36,
     "metadata": {},
     "output_type": "execute_result"
    }
   ],
   "source": [
    "accuracy_score(y_true=y_train, y_pred=y_pred)"
   ]
  },
  {
   "cell_type": "code",
   "execution_count": 37,
   "id": "d4dfc83f",
   "metadata": {
    "tags": []
   },
   "outputs": [
    {
     "data": {
      "text/plain": [
       "array([[ 303,   16,    8],\n",
       "       [  13,  674,   42],\n",
       "       [   6,   45, 1039]])"
      ]
     },
     "execution_count": 37,
     "metadata": {},
     "output_type": "execute_result"
    }
   ],
   "source": [
    "confusion_matrix(y_true=y_train, y_pred=y_pred)"
   ]
  },
  {
   "cell_type": "markdown",
   "id": "06bb41bd",
   "metadata": {},
   "source": [
    "#### Applying Labels to Study Case "
   ]
  },
  {
   "cell_type": "code",
   "execution_count": 38,
   "id": "330adceb-a922-46a0-a814-344164f7a519",
   "metadata": {
    "tags": []
   },
   "outputs": [],
   "source": [
    "# Define the pipeline\n",
    "text_processing_pipeline = Pipeline([\n",
    "    ('text_cleaning', TextCleaner()),\n",
    "    ('stop_words_removal', StopWordsRemover()),\n",
    "    ('lemmatization', Lemmatizer())\n",
    "])"
   ]
  },
  {
   "cell_type": "code",
   "execution_count": 39,
   "id": "5ba27678",
   "metadata": {
    "tags": []
   },
   "outputs": [],
   "source": [
    "df_study = pd.read_csv('GA_data_wrelevance.csv')"
   ]
  },
  {
   "cell_type": "code",
   "execution_count": 40,
   "id": "3ae45f0d-b161-4d95-a6e3-0d1689771275",
   "metadata": {
    "tags": []
   },
   "outputs": [],
   "source": [
    "processed_data = text_processing_pipeline.fit_transform(df_study['title'])"
   ]
  },
  {
   "cell_type": "code",
   "execution_count": 41,
   "id": "df8ca620-4ece-4211-8ba7-f2d35c8e4abc",
   "metadata": {
    "tags": []
   },
   "outputs": [],
   "source": [
    "df_study['lemmetized_titles'] = processed_data"
   ]
  },
  {
   "cell_type": "code",
   "execution_count": 42,
   "id": "6b476708",
   "metadata": {
    "tags": []
   },
   "outputs": [],
   "source": [
    "X = df_study['lemmetized_titles'].tolist()"
   ]
  },
  {
   "cell_type": "code",
   "execution_count": 43,
   "id": "8bf7a74d",
   "metadata": {
    "tags": []
   },
   "outputs": [],
   "source": [
    "y = np.ones(len(X))"
   ]
  },
  {
   "cell_type": "code",
   "execution_count": 44,
   "id": "7c1a7cec-bed2-42f0-9d09-d6f290f8b0f2",
   "metadata": {
    "tags": []
   },
   "outputs": [],
   "source": [
    "y = [int(x) for x in y]"
   ]
  },
  {
   "cell_type": "code",
   "execution_count": 45,
   "id": "2df0e3eb",
   "metadata": {
    "tags": []
   },
   "outputs": [],
   "source": [
    "XT = tokenizer(X, padding=True, truncation=True, max_length=512)"
   ]
  },
  {
   "cell_type": "code",
   "execution_count": 46,
   "id": "1ca09169",
   "metadata": {
    "tags": []
   },
   "outputs": [],
   "source": [
    "train_dataset = Dataset(XT, y)"
   ]
  },
  {
   "cell_type": "code",
   "execution_count": 76,
   "id": "052c7d34",
   "metadata": {
    "tags": []
   },
   "outputs": [
    {
     "data": {
      "text/html": [],
      "text/plain": [
       "<IPython.core.display.HTML object>"
      ]
     },
     "metadata": {},
     "output_type": "display_data"
    }
   ],
   "source": [
    "raw_pred, raw_pred2, raw_pred3 = test_trainer.predict(train_dataset)"
   ]
  },
  {
   "cell_type": "code",
   "execution_count": 77,
   "id": "a24ad40b",
   "metadata": {
    "tags": []
   },
   "outputs": [],
   "source": [
    "y_pred = np.argmax(raw_pred, axis=1)"
   ]
  },
  {
   "cell_type": "code",
   "execution_count": 78,
   "id": "a3a150ac",
   "metadata": {
    "tags": []
   },
   "outputs": [
    {
     "data": {
      "text/plain": [
       "0.9995974296994414"
      ]
     },
     "execution_count": 78,
     "metadata": {},
     "output_type": "execute_result"
    }
   ],
   "source": [
    "exp(raw_pred[0][0])/(exp(raw_pred[0][0])+exp(raw_pred[0][1])+exp(raw_pred[0][2]))"
   ]
  },
  {
   "cell_type": "code",
   "execution_count": 79,
   "id": "1efb967f",
   "metadata": {
    "tags": []
   },
   "outputs": [
    {
     "data": {
      "text/plain": [
       "0.00024243224362529114"
      ]
     },
     "execution_count": 79,
     "metadata": {},
     "output_type": "execute_result"
    }
   ],
   "source": [
    "exp(raw_pred[0][1])/(exp(raw_pred[0][0])+exp(raw_pred[0][1])+exp(raw_pred[0][2]))"
   ]
  },
  {
   "cell_type": "code",
   "execution_count": 80,
   "id": "9611c486",
   "metadata": {
    "tags": []
   },
   "outputs": [
    {
     "data": {
      "text/plain": [
       "0.00016013805693329355"
      ]
     },
     "execution_count": 80,
     "metadata": {},
     "output_type": "execute_result"
    }
   ],
   "source": [
    "exp(raw_pred[0][2])/(exp(raw_pred[0][0])+exp(raw_pred[0][1])+exp(raw_pred[0][2]))"
   ]
  },
  {
   "cell_type": "code",
   "execution_count": 81,
   "id": "064f5cb1",
   "metadata": {
    "tags": []
   },
   "outputs": [],
   "source": [
    "neg_class = []\n",
    "neut_class = []\n",
    "pos_class = []\n",
    "\n",
    "for item in raw_pred:\n",
    "    neg = exp(item[0])/(exp(item[0])+exp(item[1])+exp(item[2]))\n",
    "    neut = exp(item[1])/(exp(item[0])+exp(item[1])+exp(item[2]))\n",
    "    pos = exp(item[2])/(exp(item[0])+exp(item[1])+exp(item[2]))\n",
    "    neg_class.append(neg)\n",
    "    neut_class.append(neut)\n",
    "    pos_class.append(pos)"
   ]
  },
  {
   "cell_type": "code",
   "execution_count": 82,
   "id": "3c272ab9",
   "metadata": {
    "tags": []
   },
   "outputs": [],
   "source": [
    "df_study['sentiment_negative_probability']=neg_class\n",
    "df_study['sentiment_neutral_probability']=neut_class\n",
    "df_study['sentiment_positive_probability']=pos_class\n",
    "df_study['sentiment_class']=y_pred-1"
   ]
  },
  {
   "cell_type": "code",
   "execution_count": 83,
   "id": "190089e7",
   "metadata": {
    "tags": []
   },
   "outputs": [
    {
     "data": {
      "text/html": [
       "<div>\n",
       "<style scoped>\n",
       "    .dataframe tbody tr th:only-of-type {\n",
       "        vertical-align: middle;\n",
       "    }\n",
       "\n",
       "    .dataframe tbody tr th {\n",
       "        vertical-align: top;\n",
       "    }\n",
       "\n",
       "    .dataframe thead th {\n",
       "        text-align: right;\n",
       "    }\n",
       "</style>\n",
       "<table border=\"1\" class=\"dataframe\">\n",
       "  <thead>\n",
       "    <tr style=\"text-align: right;\">\n",
       "      <th></th>\n",
       "      <th>Unnamed: 0</th>\n",
       "      <th>url</th>\n",
       "      <th>url_mobile</th>\n",
       "      <th>title</th>\n",
       "      <th>seendate</th>\n",
       "      <th>socialimage</th>\n",
       "      <th>domain</th>\n",
       "      <th>language</th>\n",
       "      <th>sourcecountry</th>\n",
       "      <th>relevance_probability</th>\n",
       "      <th>relevance_class</th>\n",
       "      <th>lemmetized_titles</th>\n",
       "      <th>sentiment_negative_probability</th>\n",
       "      <th>sentiment_neutral_probability</th>\n",
       "      <th>sentiment_positive_probability</th>\n",
       "      <th>sentiment_class</th>\n",
       "    </tr>\n",
       "  </thead>\n",
       "  <tbody>\n",
       "    <tr>\n",
       "      <th>0</th>\n",
       "      <td>0</td>\n",
       "      <td>https://news.yahoo.com/ai-scams-missouri-warns...</td>\n",
       "      <td>NaN</td>\n",
       "      <td>AI Scams : Missouri warns voices of loved ones...</td>\n",
       "      <td>20240219T204500Z</td>\n",
       "      <td>https://media.zenfs.com/en/ktvi_articles_498/2...</td>\n",
       "      <td>news.yahoo.com</td>\n",
       "      <td>English</td>\n",
       "      <td>United States</td>\n",
       "      <td>0.210185</td>\n",
       "      <td>0.0</td>\n",
       "      <td>ai scam missouri warns voice loved one used fraud</td>\n",
       "      <td>0.999597</td>\n",
       "      <td>0.000242</td>\n",
       "      <td>0.000160</td>\n",
       "      <td>-1</td>\n",
       "    </tr>\n",
       "    <tr>\n",
       "      <th>1</th>\n",
       "      <td>1</td>\n",
       "      <td>https://www.americanbanker.com/opinion/regulat...</td>\n",
       "      <td>NaN</td>\n",
       "      <td>Regulators should reexamine their assumptions ...</td>\n",
       "      <td>20240219T194500Z</td>\n",
       "      <td>https://source-media-brightspot.s3.us-east-1.a...</td>\n",
       "      <td>americanbanker.com</td>\n",
       "      <td>English</td>\n",
       "      <td>United States</td>\n",
       "      <td>0.565864</td>\n",
       "      <td>1.0</td>\n",
       "      <td>regulator reexamine assumption brokered deposit</td>\n",
       "      <td>0.989373</td>\n",
       "      <td>0.010579</td>\n",
       "      <td>0.000048</td>\n",
       "      <td>-1</td>\n",
       "    </tr>\n",
       "    <tr>\n",
       "      <th>2</th>\n",
       "      <td>2</td>\n",
       "      <td>https://biztoc.com/x/97e1450bfef84362</td>\n",
       "      <td>NaN</td>\n",
       "      <td>South Korean Political Party Eyes Crypto Revol...</td>\n",
       "      <td>20240219T130000Z</td>\n",
       "      <td>https://c.biztoc.com/p/97e1450bfef84362/s.webp</td>\n",
       "      <td>biztoc.com</td>\n",
       "      <td>English</td>\n",
       "      <td>NaN</td>\n",
       "      <td>0.697517</td>\n",
       "      <td>1.0</td>\n",
       "      <td>south korean political party eye crypto revolu...</td>\n",
       "      <td>0.998693</td>\n",
       "      <td>0.000833</td>\n",
       "      <td>0.000474</td>\n",
       "      <td>-1</td>\n",
       "    </tr>\n",
       "    <tr>\n",
       "      <th>3</th>\n",
       "      <td>3</td>\n",
       "      <td>https://biztoc.com/x/5c2110519540e5cf</td>\n",
       "      <td>NaN</td>\n",
       "      <td>Unraveling the Mystery Behind XRP Price Underp...</td>\n",
       "      <td>20240219T103000Z</td>\n",
       "      <td>https://c.biztoc.com/p/5c2110519540e5cf/s.webp</td>\n",
       "      <td>biztoc.com</td>\n",
       "      <td>English</td>\n",
       "      <td>NaN</td>\n",
       "      <td>0.369046</td>\n",
       "      <td>0.0</td>\n",
       "      <td>unraveling mystery behind xrp price underperfo...</td>\n",
       "      <td>0.001967</td>\n",
       "      <td>0.996818</td>\n",
       "      <td>0.001215</td>\n",
       "      <td>0</td>\n",
       "    </tr>\n",
       "    <tr>\n",
       "      <th>4</th>\n",
       "      <td>4</td>\n",
       "      <td>https://biztoc.com/x/2f038851769a9841</td>\n",
       "      <td>NaN</td>\n",
       "      <td>Cryptocurrency Rankings : Solana Claims the Co...</td>\n",
       "      <td>20240219T181500Z</td>\n",
       "      <td>https://c.biztoc.com/p/2f038851769a9841/s.webp</td>\n",
       "      <td>biztoc.com</td>\n",
       "      <td>English</td>\n",
       "      <td>NaN</td>\n",
       "      <td>0.512854</td>\n",
       "      <td>1.0</td>\n",
       "      <td>cryptocurrency ranking solana claim coveted fo...</td>\n",
       "      <td>0.000429</td>\n",
       "      <td>0.987183</td>\n",
       "      <td>0.012388</td>\n",
       "      <td>0</td>\n",
       "    </tr>\n",
       "    <tr>\n",
       "      <th>...</th>\n",
       "      <td>...</td>\n",
       "      <td>...</td>\n",
       "      <td>...</td>\n",
       "      <td>...</td>\n",
       "      <td>...</td>\n",
       "      <td>...</td>\n",
       "      <td>...</td>\n",
       "      <td>...</td>\n",
       "      <td>...</td>\n",
       "      <td>...</td>\n",
       "      <td>...</td>\n",
       "      <td>...</td>\n",
       "      <td>...</td>\n",
       "      <td>...</td>\n",
       "      <td>...</td>\n",
       "      <td>...</td>\n",
       "    </tr>\n",
       "    <tr>\n",
       "      <th>13999</th>\n",
       "      <td>13999</td>\n",
       "      <td>https://www.kilkennypeople.ie/news/national-ne...</td>\n",
       "      <td>NaN</td>\n",
       "      <td>Oliver Callan first day on new RTÉ show - feel...</td>\n",
       "      <td>20240129T151500Z</td>\n",
       "      <td>https://www.kilkennypeople.ie/resizer/1200/700...</td>\n",
       "      <td>kilkennypeople.ie</td>\n",
       "      <td>English</td>\n",
       "      <td>Ireland</td>\n",
       "      <td>0.178277</td>\n",
       "      <td>0.0</td>\n",
       "      <td>oliver callan first day new rt show feeling st...</td>\n",
       "      <td>0.000348</td>\n",
       "      <td>0.997917</td>\n",
       "      <td>0.001735</td>\n",
       "      <td>0</td>\n",
       "    </tr>\n",
       "    <tr>\n",
       "      <th>14000</th>\n",
       "      <td>14000</td>\n",
       "      <td>https://www.leitrimobserver.ie/news/national-n...</td>\n",
       "      <td>NaN</td>\n",
       "      <td>Oliver Callan first day on new RTÉ show - feel...</td>\n",
       "      <td>20240129T151500Z</td>\n",
       "      <td>https://www.leitrimobserver.ie/resizer/1200/70...</td>\n",
       "      <td>leitrimobserver.ie</td>\n",
       "      <td>English</td>\n",
       "      <td>Ireland</td>\n",
       "      <td>0.178277</td>\n",
       "      <td>0.0</td>\n",
       "      <td>oliver callan first day new rt show feeling st...</td>\n",
       "      <td>0.000348</td>\n",
       "      <td>0.997917</td>\n",
       "      <td>0.001735</td>\n",
       "      <td>0</td>\n",
       "    </tr>\n",
       "    <tr>\n",
       "      <th>14001</th>\n",
       "      <td>14001</td>\n",
       "      <td>https://www.donegallive.ie/news/national-news/...</td>\n",
       "      <td>NaN</td>\n",
       "      <td>Oliver Callan first day on new RTÉ show - feel...</td>\n",
       "      <td>20240129T151500Z</td>\n",
       "      <td>https://www.donegallive.ie/resizer/1200/700/tr...</td>\n",
       "      <td>donegallive.ie</td>\n",
       "      <td>English</td>\n",
       "      <td>NaN</td>\n",
       "      <td>0.178277</td>\n",
       "      <td>0.0</td>\n",
       "      <td>oliver callan first day new rt show feeling st...</td>\n",
       "      <td>0.000348</td>\n",
       "      <td>0.997917</td>\n",
       "      <td>0.001735</td>\n",
       "      <td>0</td>\n",
       "    </tr>\n",
       "    <tr>\n",
       "      <th>14002</th>\n",
       "      <td>14002</td>\n",
       "      <td>https://www.banklesstimes.com/news/2024/01/29/...</td>\n",
       "      <td>NaN</td>\n",
       "      <td>RFK Jr . Joins Trump in Anti - CBDC Stance</td>\n",
       "      <td>20240129T141500Z</td>\n",
       "      <td>https://cdn.banklesstimes.com/tr:f-jpg,w-1200,...</td>\n",
       "      <td>banklesstimes.com</td>\n",
       "      <td>English</td>\n",
       "      <td>United States</td>\n",
       "      <td>0.113114</td>\n",
       "      <td>0.0</td>\n",
       "      <td>rfk jr join trump anti cbdc stance</td>\n",
       "      <td>0.116411</td>\n",
       "      <td>0.882984</td>\n",
       "      <td>0.000605</td>\n",
       "      <td>0</td>\n",
       "    </tr>\n",
       "    <tr>\n",
       "      <th>14003</th>\n",
       "      <td>14003</td>\n",
       "      <td>https://www.news-expressky.com/lifestyles/ente...</td>\n",
       "      <td>NaN</td>\n",
       "      <td>Joni Mitchell to perform at Grammy Awards for ...</td>\n",
       "      <td>20240129T054500Z</td>\n",
       "      <td>https://bloximages.chicago2.vip.townnews.com/n...</td>\n",
       "      <td>news-expressky.com</td>\n",
       "      <td>English</td>\n",
       "      <td>United States</td>\n",
       "      <td>0.405686</td>\n",
       "      <td>0.0</td>\n",
       "      <td>joni mitchell perform grammy award first time</td>\n",
       "      <td>0.000290</td>\n",
       "      <td>0.998041</td>\n",
       "      <td>0.001669</td>\n",
       "      <td>0</td>\n",
       "    </tr>\n",
       "  </tbody>\n",
       "</table>\n",
       "<p>14004 rows × 16 columns</p>\n",
       "</div>"
      ],
      "text/plain": [
       "       Unnamed: 0                                                url  \\\n",
       "0               0  https://news.yahoo.com/ai-scams-missouri-warns...   \n",
       "1               1  https://www.americanbanker.com/opinion/regulat...   \n",
       "2               2              https://biztoc.com/x/97e1450bfef84362   \n",
       "3               3              https://biztoc.com/x/5c2110519540e5cf   \n",
       "4               4              https://biztoc.com/x/2f038851769a9841   \n",
       "...           ...                                                ...   \n",
       "13999       13999  https://www.kilkennypeople.ie/news/national-ne...   \n",
       "14000       14000  https://www.leitrimobserver.ie/news/national-n...   \n",
       "14001       14001  https://www.donegallive.ie/news/national-news/...   \n",
       "14002       14002  https://www.banklesstimes.com/news/2024/01/29/...   \n",
       "14003       14003  https://www.news-expressky.com/lifestyles/ente...   \n",
       "\n",
       "      url_mobile                                              title  \\\n",
       "0            NaN  AI Scams : Missouri warns voices of loved ones...   \n",
       "1            NaN  Regulators should reexamine their assumptions ...   \n",
       "2            NaN  South Korean Political Party Eyes Crypto Revol...   \n",
       "3            NaN  Unraveling the Mystery Behind XRP Price Underp...   \n",
       "4            NaN  Cryptocurrency Rankings : Solana Claims the Co...   \n",
       "...          ...                                                ...   \n",
       "13999        NaN  Oliver Callan first day on new RTÉ show - feel...   \n",
       "14000        NaN  Oliver Callan first day on new RTÉ show - feel...   \n",
       "14001        NaN  Oliver Callan first day on new RTÉ show - feel...   \n",
       "14002        NaN         RFK Jr . Joins Trump in Anti - CBDC Stance   \n",
       "14003        NaN  Joni Mitchell to perform at Grammy Awards for ...   \n",
       "\n",
       "               seendate                                        socialimage  \\\n",
       "0      20240219T204500Z  https://media.zenfs.com/en/ktvi_articles_498/2...   \n",
       "1      20240219T194500Z  https://source-media-brightspot.s3.us-east-1.a...   \n",
       "2      20240219T130000Z     https://c.biztoc.com/p/97e1450bfef84362/s.webp   \n",
       "3      20240219T103000Z     https://c.biztoc.com/p/5c2110519540e5cf/s.webp   \n",
       "4      20240219T181500Z     https://c.biztoc.com/p/2f038851769a9841/s.webp   \n",
       "...                 ...                                                ...   \n",
       "13999  20240129T151500Z  https://www.kilkennypeople.ie/resizer/1200/700...   \n",
       "14000  20240129T151500Z  https://www.leitrimobserver.ie/resizer/1200/70...   \n",
       "14001  20240129T151500Z  https://www.donegallive.ie/resizer/1200/700/tr...   \n",
       "14002  20240129T141500Z  https://cdn.banklesstimes.com/tr:f-jpg,w-1200,...   \n",
       "14003  20240129T054500Z  https://bloximages.chicago2.vip.townnews.com/n...   \n",
       "\n",
       "                   domain language  sourcecountry  relevance_probability  \\\n",
       "0          news.yahoo.com  English  United States               0.210185   \n",
       "1      americanbanker.com  English  United States               0.565864   \n",
       "2              biztoc.com  English            NaN               0.697517   \n",
       "3              biztoc.com  English            NaN               0.369046   \n",
       "4              biztoc.com  English            NaN               0.512854   \n",
       "...                   ...      ...            ...                    ...   \n",
       "13999   kilkennypeople.ie  English        Ireland               0.178277   \n",
       "14000  leitrimobserver.ie  English        Ireland               0.178277   \n",
       "14001      donegallive.ie  English            NaN               0.178277   \n",
       "14002   banklesstimes.com  English  United States               0.113114   \n",
       "14003  news-expressky.com  English  United States               0.405686   \n",
       "\n",
       "       relevance_class                                  lemmetized_titles  \\\n",
       "0                  0.0  ai scam missouri warns voice loved one used fraud   \n",
       "1                  1.0    regulator reexamine assumption brokered deposit   \n",
       "2                  1.0  south korean political party eye crypto revolu...   \n",
       "3                  0.0  unraveling mystery behind xrp price underperfo...   \n",
       "4                  1.0  cryptocurrency ranking solana claim coveted fo...   \n",
       "...                ...                                                ...   \n",
       "13999              0.0  oliver callan first day new rt show feeling st...   \n",
       "14000              0.0  oliver callan first day new rt show feeling st...   \n",
       "14001              0.0  oliver callan first day new rt show feeling st...   \n",
       "14002              0.0                 rfk jr join trump anti cbdc stance   \n",
       "14003              0.0      joni mitchell perform grammy award first time   \n",
       "\n",
       "       sentiment_negative_probability  sentiment_neutral_probability  \\\n",
       "0                            0.999597                       0.000242   \n",
       "1                            0.989373                       0.010579   \n",
       "2                            0.998693                       0.000833   \n",
       "3                            0.001967                       0.996818   \n",
       "4                            0.000429                       0.987183   \n",
       "...                               ...                            ...   \n",
       "13999                        0.000348                       0.997917   \n",
       "14000                        0.000348                       0.997917   \n",
       "14001                        0.000348                       0.997917   \n",
       "14002                        0.116411                       0.882984   \n",
       "14003                        0.000290                       0.998041   \n",
       "\n",
       "       sentiment_positive_probability  sentiment_class  \n",
       "0                            0.000160               -1  \n",
       "1                            0.000048               -1  \n",
       "2                            0.000474               -1  \n",
       "3                            0.001215                0  \n",
       "4                            0.012388                0  \n",
       "...                               ...              ...  \n",
       "13999                        0.001735                0  \n",
       "14000                        0.001735                0  \n",
       "14001                        0.001735                0  \n",
       "14002                        0.000605                0  \n",
       "14003                        0.001669                0  \n",
       "\n",
       "[14004 rows x 16 columns]"
      ]
     },
     "execution_count": 83,
     "metadata": {},
     "output_type": "execute_result"
    }
   ],
   "source": [
    "df_study"
   ]
  },
  {
   "cell_type": "code",
   "execution_count": 86,
   "id": "46224508",
   "metadata": {
    "tags": []
   },
   "outputs": [],
   "source": [
    "df_study.to_csv('GA_data_wsentiment.csv')"
   ]
  },
  {
   "cell_type": "markdown",
   "id": "6893e0e1-84e0-4199-a935-6d17c1a80b8f",
   "metadata": {},
   "source": [
    "Applying sentiment analysis to strength training data"
   ]
  },
  {
   "cell_type": "code",
   "execution_count": 47,
   "id": "95f82ff8-ac7d-4ee0-9dd5-06fdb60ddc84",
   "metadata": {
    "tags": []
   },
   "outputs": [],
   "source": [
    "df_strength = pd.read_csv('news_short.csv')"
   ]
  },
  {
   "cell_type": "code",
   "execution_count": 49,
   "id": "4bf7d274-7d11-4ec2-8b64-38d7ab9e8361",
   "metadata": {
    "tags": []
   },
   "outputs": [],
   "source": [
    "processed_data = text_processing_pipeline.fit_transform(df_strength['title'])"
   ]
  },
  {
   "cell_type": "code",
   "execution_count": 50,
   "id": "9a0a3ef6-51d8-4c50-8af6-ebae2c12d4b5",
   "metadata": {
    "tags": []
   },
   "outputs": [],
   "source": [
    "df_strength['lemmetized_titles'] = processed_data"
   ]
  },
  {
   "cell_type": "code",
   "execution_count": 51,
   "id": "ccce93d3-0063-49b9-9bf8-f185ac320f72",
   "metadata": {
    "tags": []
   },
   "outputs": [],
   "source": [
    "X = df_strength['lemmetized_titles'].tolist()"
   ]
  },
  {
   "cell_type": "code",
   "execution_count": 52,
   "id": "b57c3346-4dc1-4c2b-a224-ec6a18cb0396",
   "metadata": {
    "tags": []
   },
   "outputs": [],
   "source": [
    "y = np.ones(len(X))"
   ]
  },
  {
   "cell_type": "code",
   "execution_count": 53,
   "id": "46a9a620-0228-4fa2-a5db-5488fc53c17e",
   "metadata": {
    "tags": []
   },
   "outputs": [],
   "source": [
    "y = [int(x) for x in y]"
   ]
  },
  {
   "cell_type": "code",
   "execution_count": 54,
   "id": "9fe2abbd-815d-4713-9c14-5ba8e367918c",
   "metadata": {
    "tags": []
   },
   "outputs": [],
   "source": [
    "XT = tokenizer(X, padding=True, truncation=True, max_length=512)"
   ]
  },
  {
   "cell_type": "code",
   "execution_count": 55,
   "id": "ebebefbf-003b-4f85-ad9d-237df1c74441",
   "metadata": {
    "tags": []
   },
   "outputs": [],
   "source": [
    "train_dataset = Dataset(XT, y)"
   ]
  },
  {
   "cell_type": "code",
   "execution_count": 56,
   "id": "8bf7cc76-43d2-48f4-b2da-8849affd4425",
   "metadata": {
    "tags": []
   },
   "outputs": [
    {
     "data": {
      "text/html": [],
      "text/plain": [
       "<IPython.core.display.HTML object>"
      ]
     },
     "metadata": {},
     "output_type": "display_data"
    }
   ],
   "source": [
    "raw_pred, raw_pred2, raw_pred3 = test_trainer.predict(train_dataset)"
   ]
  },
  {
   "cell_type": "code",
   "execution_count": 57,
   "id": "da4400ac-7448-43f9-9784-edabfdc39987",
   "metadata": {
    "tags": []
   },
   "outputs": [],
   "source": [
    "y_pred = np.argmax(raw_pred, axis=1)"
   ]
  },
  {
   "cell_type": "code",
   "execution_count": 58,
   "id": "720d1a61-a7cd-42d6-9ba2-c5a34e65a0bb",
   "metadata": {
    "tags": []
   },
   "outputs": [],
   "source": [
    "neg_class = []\n",
    "neut_class = []\n",
    "pos_class = []\n",
    "\n",
    "for item in raw_pred:\n",
    "    neg = exp(item[0])/(exp(item[0])+exp(item[1])+exp(item[2]))\n",
    "    neut = exp(item[1])/(exp(item[0])+exp(item[1])+exp(item[2]))\n",
    "    pos = exp(item[2])/(exp(item[0])+exp(item[1])+exp(item[2]))\n",
    "    neg_class.append(neg)\n",
    "    neut_class.append(neut)\n",
    "    pos_class.append(pos)"
   ]
  },
  {
   "cell_type": "code",
   "execution_count": 59,
   "id": "9549a14a-f6a4-4433-834b-7616190d446d",
   "metadata": {
    "tags": []
   },
   "outputs": [],
   "source": [
    "df_strength['sentiment_negative_probability']=neg_class\n",
    "df_strength['sentiment_neutral_probability']=neut_class\n",
    "df_strength['sentiment_positive_probability']=pos_class\n",
    "df_strength['sentiment_class']=y_pred-1"
   ]
  },
  {
   "cell_type": "code",
   "execution_count": 60,
   "id": "d7e1baaa-b363-4eaa-a2f4-f5a810fa309d",
   "metadata": {
    "tags": []
   },
   "outputs": [
    {
     "data": {
      "text/html": [
       "<div>\n",
       "<style scoped>\n",
       "    .dataframe tbody tr th:only-of-type {\n",
       "        vertical-align: middle;\n",
       "    }\n",
       "\n",
       "    .dataframe tbody tr th {\n",
       "        vertical-align: top;\n",
       "    }\n",
       "\n",
       "    .dataframe thead th {\n",
       "        text-align: right;\n",
       "    }\n",
       "</style>\n",
       "<table border=\"1\" class=\"dataframe\">\n",
       "  <thead>\n",
       "    <tr style=\"text-align: right;\">\n",
       "      <th></th>\n",
       "      <th>url</th>\n",
       "      <th>url_mobile</th>\n",
       "      <th>title</th>\n",
       "      <th>seendate</th>\n",
       "      <th>socialimage</th>\n",
       "      <th>domain</th>\n",
       "      <th>language</th>\n",
       "      <th>sourcecountry</th>\n",
       "      <th>lemmetized_titles</th>\n",
       "      <th>sentiment_negative_probability</th>\n",
       "      <th>sentiment_neutral_probability</th>\n",
       "      <th>sentiment_positive_probability</th>\n",
       "      <th>sentiment_class</th>\n",
       "    </tr>\n",
       "  </thead>\n",
       "  <tbody>\n",
       "    <tr>\n",
       "      <th>0</th>\n",
       "      <td>https://www.digitaljournal.com/pr/longhash-ven...</td>\n",
       "      <td>NaN</td>\n",
       "      <td>LongHash Ventures and Terraform Labs Join Forc...</td>\n",
       "      <td>20220406T163000Z</td>\n",
       "      <td>https://www.newsfilecorp.com/newsinfo/119481/356</td>\n",
       "      <td>digitaljournal.com</td>\n",
       "      <td>English</td>\n",
       "      <td>United States</td>\n",
       "      <td>longhash venture terraform lab join force adva...</td>\n",
       "      <td>0.000179</td>\n",
       "      <td>0.010903</td>\n",
       "      <td>0.988918</td>\n",
       "      <td>1</td>\n",
       "    </tr>\n",
       "    <tr>\n",
       "      <th>1</th>\n",
       "      <td>https://www.prnewswire.com/news-releases/terra...</td>\n",
       "      <td>NaN</td>\n",
       "      <td>TERRA . DO TO COMPETE IN FINAL 20 GROUP FOR ED...</td>\n",
       "      <td>20220406T001500Z</td>\n",
       "      <td>NaN</td>\n",
       "      <td>prnewswire.com</td>\n",
       "      <td>English</td>\n",
       "      <td>United States</td>\n",
       "      <td>terra compete final 20 group edtech competitio...</td>\n",
       "      <td>0.000484</td>\n",
       "      <td>0.998540</td>\n",
       "      <td>0.000976</td>\n",
       "      <td>0</td>\n",
       "    </tr>\n",
       "    <tr>\n",
       "      <th>2</th>\n",
       "      <td>https://techcrunch.com/2022/04/06/terras-found...</td>\n",
       "      <td>NaN</td>\n",
       "      <td>Terra founder plans to back its stablecoin wit...</td>\n",
       "      <td>20220406T213000Z</td>\n",
       "      <td>https://techcrunch.com/wp-content/uploads/2022...</td>\n",
       "      <td>techcrunch.com</td>\n",
       "      <td>English</td>\n",
       "      <td>United States</td>\n",
       "      <td>terra founder plan back stablecoin basket cryp...</td>\n",
       "      <td>0.000081</td>\n",
       "      <td>0.001193</td>\n",
       "      <td>0.998726</td>\n",
       "      <td>1</td>\n",
       "    </tr>\n",
       "    <tr>\n",
       "      <th>3</th>\n",
       "      <td>https://www.business-standard.com/article/comp...</td>\n",
       "      <td>https://wap.business-standard.com/article-amp/...</td>\n",
       "      <td>Crypto platform Leap raises $3 . 2 mn in fundi...</td>\n",
       "      <td>20220406T081500Z</td>\n",
       "      <td>https://bsmedia.business-standard.com/_media/b...</td>\n",
       "      <td>business-standard.com</td>\n",
       "      <td>English</td>\n",
       "      <td>India</td>\n",
       "      <td>crypto platform leap raise 3 2 mn funding coin...</td>\n",
       "      <td>0.000068</td>\n",
       "      <td>0.004750</td>\n",
       "      <td>0.995181</td>\n",
       "      <td>1</td>\n",
       "    </tr>\n",
       "    <tr>\n",
       "      <th>4</th>\n",
       "      <td>https://www.fool.com/investing/2022/04/06/can-...</td>\n",
       "      <td>NaN</td>\n",
       "      <td>Can THORchain Keep Surging ? | The Motley Fool</td>\n",
       "      <td>20220406T120000Z</td>\n",
       "      <td>https://g.foolcdn.com/editorial/images/673167/...</td>\n",
       "      <td>fool.com</td>\n",
       "      <td>English</td>\n",
       "      <td>United States</td>\n",
       "      <td>thorchain keep surging motley fool</td>\n",
       "      <td>0.000619</td>\n",
       "      <td>0.995138</td>\n",
       "      <td>0.004243</td>\n",
       "      <td>0</td>\n",
       "    </tr>\n",
       "  </tbody>\n",
       "</table>\n",
       "</div>"
      ],
      "text/plain": [
       "                                                 url  \\\n",
       "0  https://www.digitaljournal.com/pr/longhash-ven...   \n",
       "1  https://www.prnewswire.com/news-releases/terra...   \n",
       "2  https://techcrunch.com/2022/04/06/terras-found...   \n",
       "3  https://www.business-standard.com/article/comp...   \n",
       "4  https://www.fool.com/investing/2022/04/06/can-...   \n",
       "\n",
       "                                          url_mobile  \\\n",
       "0                                                NaN   \n",
       "1                                                NaN   \n",
       "2                                                NaN   \n",
       "3  https://wap.business-standard.com/article-amp/...   \n",
       "4                                                NaN   \n",
       "\n",
       "                                               title          seendate  \\\n",
       "0  LongHash Ventures and Terraform Labs Join Forc...  20220406T163000Z   \n",
       "1  TERRA . DO TO COMPETE IN FINAL 20 GROUP FOR ED...  20220406T001500Z   \n",
       "2  Terra founder plans to back its stablecoin wit...  20220406T213000Z   \n",
       "3  Crypto platform Leap raises $3 . 2 mn in fundi...  20220406T081500Z   \n",
       "4     Can THORchain Keep Surging ? | The Motley Fool  20220406T120000Z   \n",
       "\n",
       "                                         socialimage                 domain  \\\n",
       "0   https://www.newsfilecorp.com/newsinfo/119481/356     digitaljournal.com   \n",
       "1                                                NaN         prnewswire.com   \n",
       "2  https://techcrunch.com/wp-content/uploads/2022...         techcrunch.com   \n",
       "3  https://bsmedia.business-standard.com/_media/b...  business-standard.com   \n",
       "4  https://g.foolcdn.com/editorial/images/673167/...               fool.com   \n",
       "\n",
       "  language  sourcecountry                                  lemmetized_titles  \\\n",
       "0  English  United States  longhash venture terraform lab join force adva...   \n",
       "1  English  United States  terra compete final 20 group edtech competitio...   \n",
       "2  English  United States  terra founder plan back stablecoin basket cryp...   \n",
       "3  English          India  crypto platform leap raise 3 2 mn funding coin...   \n",
       "4  English  United States                 thorchain keep surging motley fool   \n",
       "\n",
       "   sentiment_negative_probability  sentiment_neutral_probability  \\\n",
       "0                        0.000179                       0.010903   \n",
       "1                        0.000484                       0.998540   \n",
       "2                        0.000081                       0.001193   \n",
       "3                        0.000068                       0.004750   \n",
       "4                        0.000619                       0.995138   \n",
       "\n",
       "   sentiment_positive_probability  sentiment_class  \n",
       "0                        0.988918                1  \n",
       "1                        0.000976                0  \n",
       "2                        0.998726                1  \n",
       "3                        0.995181                1  \n",
       "4                        0.004243                0  "
      ]
     },
     "execution_count": 60,
     "metadata": {},
     "output_type": "execute_result"
    }
   ],
   "source": [
    "df_strength.head()"
   ]
  },
  {
   "cell_type": "code",
   "execution_count": 61,
   "id": "fc0f7789-913a-4a8e-b0d0-a0a076bcf075",
   "metadata": {
    "tags": []
   },
   "outputs": [],
   "source": [
    "df_strength.to_csv('news_short_wsentiment.csv')"
   ]
  },
  {
   "cell_type": "code",
   "execution_count": null,
   "id": "4b5db996-04b9-4bbc-a6a3-155cbee9df20",
   "metadata": {},
   "outputs": [],
   "source": []
  }
 ],
 "metadata": {
  "kernelspec": {
   "display_name": "Python 3 (ipykernel)",
   "language": "python",
   "name": "python3"
  },
  "language_info": {
   "codemirror_mode": {
    "name": "ipython",
    "version": 3
   },
   "file_extension": ".py",
   "mimetype": "text/x-python",
   "name": "python",
   "nbconvert_exporter": "python",
   "pygments_lexer": "ipython3",
   "version": "3.10.13"
  }
 },
 "nbformat": 4,
 "nbformat_minor": 5
}
